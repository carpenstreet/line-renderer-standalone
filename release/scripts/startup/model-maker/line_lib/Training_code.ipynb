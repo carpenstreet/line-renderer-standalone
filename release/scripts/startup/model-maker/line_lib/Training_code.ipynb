{
 "cells": [
  {
   "cell_type": "code",
   "execution_count": 1,
   "metadata": {},
   "outputs": [],
   "source": [
    "import json\n",
    "import math\n",
    "import os\n",
    "import random\n",
    "import re\n",
    "import time\n",
    "import warnings\n",
    "from glob import glob\n",
    "\n",
    "import cv2\n",
    "import numpy as np\n",
    "import pandas as pd\n",
    "import timm\n",
    "import torch\n",
    "from PIL import Image\n",
    "from matplotlib import image as mpimg, pyplot as plt\n",
    "from sklearn.metrics import f1_score, mean_absolute_error\n",
    "from sklearn.model_selection import KFold, StratifiedKFold\n",
    "from torch import nn\n",
    "from torch.utils.data import DataLoader, Dataset\n",
    "from torchvision import transforms\n",
    "from tqdm.auto import tqdm\n",
    "\n",
    "warnings.filterwarnings('ignore')\n",
    "\n",
    "def fix_everything(random_seed):\n",
    "    torch.manual_seed(random_seed)\n",
    "    torch.cuda.manual_seed(random_seed)\n",
    "    torch.cuda.manual_seed_all(random_seed) # if use multi-GPU\n",
    "    torch.backends.cudnn.deterministic = True\n",
    "    torch.backends.cudnn.benchmark = True\n",
    "    np.random.seed(random_seed)\n",
    "    random.seed(random_seed)\n",
    "\n",
    "fix_everything(42)"
   ]
  },
  {
   "cell_type": "code",
   "execution_count": 2,
   "metadata": {},
   "outputs": [],
   "source": [
    "TARGET_IDX = 0\n",
    "\n",
    "class LsdDataset(Dataset):\n",
    "    def __init__(self, imgs, mode='train'):\n",
    "        self.imgs = imgs\n",
    "        self.img_contents = []\n",
    "\n",
    "        print(\"Opening Images...\")\n",
    "        for img in tqdm(self.imgs):\n",
    "          self.img_contents.append(Image.open(img).convert(\"RGB\"))\n",
    "          \n",
    "        self.mode = mode\n",
    "          # Try adding more augmentation:\n",
    "          # WORSE: \n",
    "          # - RandomAdjustSharpness(sharpness_factor=2), \n",
    "          # - ColorJitter(brightness=0.4, contrast=0.2, saturation=0.3, hue=0.3),\n",
    "\n",
    "        self.transforms = {\n",
    "          \"train\":    transforms.Compose([\n",
    "                      transforms.RandomHorizontalFlip(),\n",
    "                      transforms.RandomVerticalFlip(),\n",
    "                      transforms.ToTensor(),\n",
    "                    ]),\n",
    "\n",
    "          \"valid\":    transforms.Compose([\n",
    "                      transforms.ToTensor(),\n",
    "                    ]),\n",
    "                                    \n",
    "          \"test\":     transforms.Compose([\n",
    "                      transforms.ToTensor(),\n",
    "                                  ])\n",
    "            } \n",
    "    \n",
    "    def __len__(self):\n",
    "        return len(self.imgs)\n",
    "\n",
    "    def __getitem__(self, idx):\n",
    "        # Get Image.\n",
    "        img_title = self.imgs[idx]\n",
    "        img = self.img_contents[idx]\n",
    "        transforms = self.transforms[self.mode]\n",
    "        img = transforms(img)  \n",
    "\n",
    "        # Get label.\n",
    "        matches = re.findall(r'[0-9]+\\.?[0-9]*', img_title.split(\"/\")[-1])\n",
    "      \n",
    "        label = [float(x) for x in matches]\n",
    "        label[0] /= 6 # may change.\n",
    "        label = [round(x, 4) for x in label]\n",
    "\n",
    "        if len(label) != 3:\n",
    "          assert(f\"Wrong Image Title. Please check again.\\n[Detected]: {img_title}\")\n",
    "\n",
    "        return img, torch.HalfTensor(label)"
   ]
  },
  {
   "cell_type": "code",
   "execution_count": 3,
   "metadata": {},
   "outputs": [],
   "source": [
    "import torch.nn.functional as F\n",
    "\n",
    "class Network(nn.Module):\n",
    "    def __init__(self, model_name, p=0.25):\n",
    "        super(Network, self).__init__()\n",
    "        self.model = timm.create_model(model_name, pretrained=True, num_classes=3, drop_rate=0.25)\n",
    "    def forward(self, img):\n",
    "        final = self.model(img)\n",
    "        return final"
   ]
  },
  {
   "cell_type": "code",
   "execution_count": 4,
   "metadata": {},
   "outputs": [],
   "source": [
    "### MAIN SETTINGS ###\n",
    "import glob\n",
    "\n",
    "\n",
    "train_idxs = [0, 1, 2, 3, 4, 5, 6, 7, 8, 9, 10, 11, 12, 13, 14, 15, 16, 17, 18, 19]\n",
    "val_idxs = [20, 21]\n",
    "\n",
    "imgs = []\n",
    "val_imgs = []\n",
    "\n",
    "for idx in train_idxs:\n",
    "    imgs.extend(glob.glob(f\"/workspace/LSD/new_data/LineStyleData_{idx}/*.png\"))\n",
    "\n",
    "for idx in val_idxs:\n",
    "    val_imgs.extend(glob.glob(f\"/workspace/LSD/new_data/LineStyleData_{idx}/*.png\"))\n",
    "\n",
    "# folds = [(train_idx, valid_idx) for train_idx, valid_idx in KFold(n_splits=5, shuffle=True, random_state=42).split(imgs)]\n",
    "# Train: 1064, Valid: 267\n",
    "# Original Image size: 1920 x 1080 => (256, 256)\n",
    "\n",
    "model_name = \"regnetv_064\"\n",
    "device = torch.device(\"cuda:0\")\n",
    "training_epochs = 25\n",
    "batch_size = 16"
   ]
  },
  {
   "cell_type": "code",
   "execution_count": 5,
   "metadata": {},
   "outputs": [],
   "source": [
    "# 1 - [sum of (관측치 - 모델 예상치)^2] / [sum of (관측치 - in sample 평균)^2]\n",
    "import torch\n",
    "import numpy as np\n",
    "import pdb\n",
    "\n",
    "FIRST_ELEM_MAX = 6\n",
    "FIRST_ELEM_STEP_SIZE = 0.5\n",
    "\n",
    "SECOND_ELEM_MAX = 1\n",
    "SECOND_ELEM_STEP_SIZE = 0.1\n",
    "\n",
    "THIRD_ELEM_MAX = 1\n",
    "THIRD_ELEM_STEP_SIZE = 0.1\n",
    "\n",
    "def process_vals(pred):\n",
    "    pred[pred > 1] = 1\n",
    "    pred[pred < 0]= 0\n",
    "\n",
    "    # Since first element minimum is 1:\n",
    "    pred[:, 0] = np.round(pred[:, 0] * FIRST_ELEM_MAX / FIRST_ELEM_STEP_SIZE ) * FIRST_ELEM_STEP_SIZE\n",
    "    pred[:, 0][pred[:, 0] < 1] = 1\n",
    "\n",
    "    pred[:, 1] = np.round(pred[:, 1] * SECOND_ELEM_MAX / SECOND_ELEM_STEP_SIZE) * SECOND_ELEM_STEP_SIZE\n",
    "    pred[:, 2] = np.round(pred[:, 2] * THIRD_ELEM_MAX / THIRD_ELEM_STEP_SIZE) * THIRD_ELEM_STEP_SIZE\n",
    "    return pred\n",
    "\n",
    "def get_rsquared_total(pred, gt):\n",
    "    # Unnormalize & Round\n",
    "    pred = process_vals(pred)\n",
    "    gt = process_vals(gt)\n",
    "\n",
    "    one = get_rsquared(pred, gt, 0)\n",
    "    two = get_rsquared(pred, gt, 1)\n",
    "    three = get_rsquared(pred, gt, 2)\n",
    "    return {\"width\": one, \"dynamics\": two, \"jitter\": three}\n",
    "\n",
    "def nrmse(pred, gt):\n",
    "    pred = process_vals(pred)\n",
    "    gt = process_vals(gt)\n",
    "\n",
    "    one = get_nrmse(pred, gt, 0)\n",
    "    two = get_nrmse(pred, gt, 1)\n",
    "    three = get_nrmse(pred, gt, 2)\n",
    "    return {\"width\": one, \"dynamics\": two, \"jitter\": three}\n",
    "\n",
    "def get_nrmse(pred, gt, idx):\n",
    "    pred = pred[:, idx]\n",
    "    gt = gt[:, idx]\n",
    "    numerator = np.sqrt(np.mean((gt - pred)**2))\n",
    "    denominator = np.max(gt) - np.min(gt)\n",
    "    return numerator / denominator\n",
    "\n",
    "def get_rsquared(pred, gt, idx):\n",
    "    pred = pred[:, idx]\n",
    "    gt =  gt[:, idx]\n",
    "    r_sq = 1 - sum(np.square(gt- pred)) / sum(np.square(gt - np.mean(gt)))\n",
    "    return r_sq\n",
    "\n",
    "def weighted_mse_loss(input, target):\n",
    "    return (torch.HalfTensor([1, 2, 1.5]).to(device) * (input - target) ** 2).mean()"
   ]
  },
  {
   "cell_type": "code",
   "execution_count": 6,
   "metadata": {},
   "outputs": [
    {
     "name": "stdout",
     "output_type": "stream",
     "text": [
      "Running fold No.1\n",
      "Opening Images...\n"
     ]
    },
    {
     "data": {
      "application/vnd.jupyter.widget-view+json": {
       "model_id": "1cf8d631202e40cf826c4eeb96d02627",
       "version_major": 2,
       "version_minor": 0
      },
      "text/plain": [
       "  0%|          | 0/21296 [00:00<?, ?it/s]"
      ]
     },
     "metadata": {},
     "output_type": "display_data"
    },
    {
     "name": "stdout",
     "output_type": "stream",
     "text": [
      "Opening Images...\n"
     ]
    },
    {
     "data": {
      "application/vnd.jupyter.widget-view+json": {
       "model_id": "9f3edda72c58410ea29de5ec16db773e",
       "version_major": 2,
       "version_minor": 0
      },
      "text/plain": [
       "  0%|          | 0/2662 [00:00<?, ?it/s]"
      ]
     },
     "metadata": {},
     "output_type": "display_data"
    },
    {
     "data": {
      "application/vnd.jupyter.widget-view+json": {
       "model_id": "9605a5ea0bc24279aa24a48d844d22cb",
       "version_major": 2,
       "version_minor": 0
      },
      "text/plain": [
       "  0%|          | 0/1331 [00:03<?, ?batch/s]"
      ]
     },
     "metadata": {},
     "output_type": "display_data"
    },
    {
     "data": {
      "application/vnd.jupyter.widget-view+json": {
       "model_id": "16d2ff6813af407eba52488d9998c8c9",
       "version_major": 2,
       "version_minor": 0
      },
      "text/plain": [
       "  0%|          | 0/167 [00:01<?, ?batch/s]"
      ]
     },
     "metadata": {},
     "output_type": "display_data"
    },
    {
     "name": "stdout",
     "output_type": "stream",
     "text": [
      "epoch : 1/25    time : 508s/12189s\n",
      "Train Loss: 0.30981\n",
      "Valid Loss: 0.21417 best : 0.21417\n",
      "NRMSE Valid: {'width': 0.0678089, 'dynamics': 0.13280481, 'jitter': 0.08232169}\n",
      "R-Squared Valid: {'width': 0.9540195341848234, 'dynamics': 0.8236288520360001, 'jitter': 0.9322314074363734}\n"
     ]
    },
    {
     "data": {
      "application/vnd.jupyter.widget-view+json": {
       "model_id": "eea041da51e24d9899016f54b2acf34c",
       "version_major": 2,
       "version_minor": 0
      },
      "text/plain": [
       "  0%|          | 0/1331 [00:01<?, ?batch/s]"
      ]
     },
     "metadata": {},
     "output_type": "display_data"
    },
    {
     "data": {
      "application/vnd.jupyter.widget-view+json": {
       "model_id": "cb629582d69f44edb5604fa8b99c0328",
       "version_major": 2,
       "version_minor": 0
      },
      "text/plain": [
       "  0%|          | 0/167 [00:00<?, ?batch/s]"
      ]
     },
     "metadata": {},
     "output_type": "display_data"
    },
    {
     "name": "stdout",
     "output_type": "stream",
     "text": [
      "epoch : 2/25    time : 363s/8352s\n",
      "Train Loss: 0.17321\n",
      "Valid Loss: 0.20634 best : 0.20634\n",
      "NRMSE Valid: {'width': 0.12151992, 'dynamics': 0.09321457, 'jitter': 0.067919604}\n",
      "R-Squared Valid: {'width': 0.8523290758827948, 'dynamics': 0.9131104443073054, 'jitter': 0.9538692750735287}\n"
     ]
    },
    {
     "data": {
      "application/vnd.jupyter.widget-view+json": {
       "model_id": "5fdd02b098a340d6a3877d2aa7b9d1a9",
       "version_major": 2,
       "version_minor": 0
      },
      "text/plain": [
       "  0%|          | 0/1331 [00:00<?, ?batch/s]"
      ]
     },
     "metadata": {},
     "output_type": "display_data"
    },
    {
     "data": {
      "application/vnd.jupyter.widget-view+json": {
       "model_id": "07bdbee405a74b1cac020a205f9d8556",
       "version_major": 2,
       "version_minor": 0
      },
      "text/plain": [
       "  0%|          | 0/167 [00:00<?, ?batch/s]"
      ]
     },
     "metadata": {},
     "output_type": "display_data"
    },
    {
     "name": "stdout",
     "output_type": "stream",
     "text": [
      "epoch : 3/25    time : 360s/7915s\n",
      "Train Loss: 0.14163\n",
      "Valid Loss: 0.24213 best : 0.20634\n",
      "NRMSE Valid: {'width': 0.05746328, 'dynamics': 0.1506809, 'jitter': 0.11306468}\n",
      "R-Squared Valid: {'width': 0.9669797145003757, 'dynamics': 0.7729526661084907, 'jitter': 0.8721637888470511}\n"
     ]
    },
    {
     "data": {
      "application/vnd.jupyter.widget-view+json": {
       "model_id": "d42396bb3b074404929c9e85684681f7",
       "version_major": 2,
       "version_minor": 0
      },
      "text/plain": [
       "  0%|          | 0/1331 [00:00<?, ?batch/s]"
      ]
     },
     "metadata": {},
     "output_type": "display_data"
    },
    {
     "data": {
      "application/vnd.jupyter.widget-view+json": {
       "model_id": "83cb0ffb972041d0baf38f12a3bedc11",
       "version_major": 2,
       "version_minor": 0
      },
      "text/plain": [
       "  0%|          | 0/167 [00:01<?, ?batch/s]"
      ]
     },
     "metadata": {},
     "output_type": "display_data"
    },
    {
     "name": "stdout",
     "output_type": "stream",
     "text": [
      "epoch : 4/25    time : 462s/9696s\n",
      "Train Loss: 0.13678\n",
      "Valid Loss: 0.23725 best : 0.20634\n",
      "NRMSE Valid: {'width': 0.07711457, 'dynamics': 0.12165895, 'jitter': 0.08945112}\n",
      "R-Squared Valid: {'width': 0.9405334335086402, 'dynamics': 0.8519909874573054, 'jitter': 0.9199849774150234}\n"
     ]
    },
    {
     "data": {
      "application/vnd.jupyter.widget-view+json": {
       "model_id": "3172144c69904b4d8cf35c3c95fcd5fa",
       "version_major": 2,
       "version_minor": 0
      },
      "text/plain": [
       "  0%|          | 0/1331 [00:01<?, ?batch/s]"
      ]
     },
     "metadata": {},
     "output_type": "display_data"
    },
    {
     "data": {
      "application/vnd.jupyter.widget-view+json": {
       "model_id": "ff394d1f87b84324b7d32b243df9bf56",
       "version_major": 2,
       "version_minor": 0
      },
      "text/plain": [
       "  0%|          | 0/167 [00:01<?, ?batch/s]"
      ]
     },
     "metadata": {},
     "output_type": "display_data"
    },
    {
     "name": "stdout",
     "output_type": "stream",
     "text": [
      "epoch : 5/25    time : 574s/11477s\n",
      "Train Loss: 0.12596\n",
      "Valid Loss: 0.27039 best : 0.20634\n",
      "NRMSE Valid: {'width': 0.07372762, 'dynamics': 0.151811, 'jitter': 0.09007885}\n",
      "R-Squared Valid: {'width': 0.9456423741547708, 'dynamics': 0.7695341840171769, 'jitter': 0.9188580046802962}\n"
     ]
    },
    {
     "data": {
      "application/vnd.jupyter.widget-view+json": {
       "model_id": "b7c47818a662409fbc6dff4cd1ad2b36",
       "version_major": 2,
       "version_minor": 0
      },
      "text/plain": [
       "  0%|          | 0/1331 [00:01<?, ?batch/s]"
      ]
     },
     "metadata": {},
     "output_type": "display_data"
    },
    {
     "data": {
      "application/vnd.jupyter.widget-view+json": {
       "model_id": "28cae49745ce4ba9b85af4b8fef27f2f",
       "version_major": 2,
       "version_minor": 0
      },
      "text/plain": [
       "  0%|          | 0/167 [00:01<?, ?batch/s]"
      ]
     },
     "metadata": {},
     "output_type": "display_data"
    },
    {
     "name": "stdout",
     "output_type": "stream",
     "text": [
      "epoch : 6/25    time : 382s/7265s\n",
      "Train Loss: 0.11582\n",
      "Valid Loss: 0.24826 best : 0.20634\n",
      "NRMSE Valid: {'width': 0.11296495, 'dynamics': 0.1335101, 'jitter': 0.060674895}\n",
      "R-Squared Valid: {'width': 0.872389181066867, 'dynamics': 0.8217505638893918, 'jitter': 0.9631855757732739}\n"
     ]
    },
    {
     "data": {
      "application/vnd.jupyter.widget-view+json": {
       "model_id": "bd4c31c81733478d9caf29ec479fff1c",
       "version_major": 2,
       "version_minor": 0
      },
      "text/plain": [
       "  0%|          | 0/1331 [00:00<?, ?batch/s]"
      ]
     },
     "metadata": {},
     "output_type": "display_data"
    },
    {
     "data": {
      "application/vnd.jupyter.widget-view+json": {
       "model_id": "6734f237a4204f4cbc37e2542436fe71",
       "version_major": 2,
       "version_minor": 0
      },
      "text/plain": [
       "  0%|          | 0/167 [00:00<?, ?batch/s]"
      ]
     },
     "metadata": {},
     "output_type": "display_data"
    },
    {
     "name": "stdout",
     "output_type": "stream",
     "text": [
      "epoch : 7/25    time : 365s/6579s\n",
      "Train Loss: 0.11075\n",
      "Valid Loss: 0.12336 best : 0.12336\n",
      "NRMSE Valid: {'width': 0.027885675, 'dynamics': 0.08648317, 'jitter': 0.05444205}\n",
      "R-Squared Valid: {'width': 0.9922238918106687, 'dynamics': 0.9252066127835562, 'jitter': 0.9703606335035695}\n"
     ]
    },
    {
     "data": {
      "application/vnd.jupyter.widget-view+json": {
       "model_id": "27e387f7391544419678cef039483787",
       "version_major": 2,
       "version_minor": 0
      },
      "text/plain": [
       "  0%|          | 0/1331 [00:00<?, ?batch/s]"
      ]
     },
     "metadata": {},
     "output_type": "display_data"
    },
    {
     "data": {
      "application/vnd.jupyter.widget-view+json": {
       "model_id": "3a39201094534207a0c13e12630af067",
       "version_major": 2,
       "version_minor": 0
      },
      "text/plain": [
       "  0%|          | 0/167 [00:00<?, ?batch/s]"
      ]
     },
     "metadata": {},
     "output_type": "display_data"
    },
    {
     "name": "stdout",
     "output_type": "stream",
     "text": [
      "epoch : 8/25    time : 362s/6150s\n",
      "Train Loss: 0.10749\n",
      "Valid Loss: 0.20767 best : 0.12336\n",
      "NRMSE Valid: {'width': 0.078753434, 'dynamics': 0.12697724, 'jitter': 0.05970753}\n",
      "R-Squared Valid: {'width': 0.9379789631855747, 'dynamics': 0.8387678436888639, 'jitter': 0.9643501119997937}\n"
     ]
    },
    {
     "data": {
      "application/vnd.jupyter.widget-view+json": {
       "model_id": "3e933439d52c4e67b4f81c58d46575c6",
       "version_major": 2,
       "version_minor": 0
      },
      "text/plain": [
       "  0%|          | 0/1331 [00:01<?, ?batch/s]"
      ]
     },
     "metadata": {},
     "output_type": "display_data"
    },
    {
     "data": {
      "application/vnd.jupyter.widget-view+json": {
       "model_id": "d722250cc560403290713239b7db665b",
       "version_major": 2,
       "version_minor": 0
      },
      "text/plain": [
       "  0%|          | 0/167 [00:00<?, ?batch/s]"
      ]
     },
     "metadata": {},
     "output_type": "display_data"
    },
    {
     "name": "stdout",
     "output_type": "stream",
     "text": [
      "epoch : 9/25    time : 361s/5783s\n",
      "Train Loss: 0.09746\n",
      "Valid Loss: 0.28430 best : 0.12336\n",
      "NRMSE Valid: {'width': 0.12550424, 'dynamics': 0.14572547, 'jitter': 0.066154435}\n",
      "R-Squared Valid: {'width': 0.8424868519909843, 'dynamics': 0.7876408706665534, 'jitter': 0.9562359127116745}\n"
     ]
    },
    {
     "data": {
      "application/vnd.jupyter.widget-view+json": {
       "model_id": "08c5018771604767b79fb113b1bc0680",
       "version_major": 2,
       "version_minor": 0
      },
      "text/plain": [
       "  0%|          | 0/1331 [00:00<?, ?batch/s]"
      ]
     },
     "metadata": {},
     "output_type": "display_data"
    },
    {
     "data": {
      "application/vnd.jupyter.widget-view+json": {
       "model_id": "ffb0aff9386e43c1852260e947f0f8ff",
       "version_major": 2,
       "version_minor": 0
      },
      "text/plain": [
       "  0%|          | 0/167 [00:00<?, ?batch/s]"
      ]
     },
     "metadata": {},
     "output_type": "display_data"
    },
    {
     "name": "stdout",
     "output_type": "stream",
     "text": [
      "epoch : 10/25    time : 361s/5420s\n",
      "Train Loss: 0.09721\n",
      "Valid Loss: 0.19657 best : 0.12336\n",
      "NRMSE Valid: {'width': 0.09185459, 'dynamics': 0.10652986, 'jitter': 0.07092286}\n",
      "R-Squared Valid: {'width': 0.9156273478587528, 'dynamics': 0.8865139008195559, 'jitter': 0.9496994766397109}\n"
     ]
    },
    {
     "data": {
      "application/vnd.jupyter.widget-view+json": {
       "model_id": "e2418304fba0430887fe3bc4df59d4e3",
       "version_major": 2,
       "version_minor": 0
      },
      "text/plain": [
       "  0%|          | 0/1331 [00:01<?, ?batch/s]"
      ]
     },
     "metadata": {},
     "output_type": "display_data"
    },
    {
     "data": {
      "application/vnd.jupyter.widget-view+json": {
       "model_id": "ccafd6f8b41948daa9d91b1c7d1032ea",
       "version_major": 2,
       "version_minor": 0
      },
      "text/plain": [
       "  0%|          | 0/167 [00:00<?, ?batch/s]"
      ]
     },
     "metadata": {},
     "output_type": "display_data"
    },
    {
     "name": "stdout",
     "output_type": "stream",
     "text": [
      "epoch : 11/25    time : 361s/5047s\n",
      "Train Loss: 0.09240\n",
      "Valid Loss: 0.24822 best : 0.12336\n",
      "NRMSE Valid: {'width': 0.07908663, 'dynamics': 0.1329179, 'jitter': 0.09812287}\n",
      "R-Squared Valid: {'width': 0.9374530428249437, 'dynamics': 0.8233283276653205, 'jitter': 0.9037190116874755}\n"
     ]
    },
    {
     "data": {
      "application/vnd.jupyter.widget-view+json": {
       "model_id": "41b7f842203f43759915e16f48c6f814",
       "version_major": 2,
       "version_minor": 0
      },
      "text/plain": [
       "  0%|          | 0/1331 [00:00<?, ?batch/s]"
      ]
     },
     "metadata": {},
     "output_type": "display_data"
    },
    {
     "data": {
      "application/vnd.jupyter.widget-view+json": {
       "model_id": "e6356d5ac13b4341bdd3e9847ed1f595",
       "version_major": 2,
       "version_minor": 0
      },
      "text/plain": [
       "  0%|          | 0/167 [00:01<?, ?batch/s]"
      ]
     },
     "metadata": {},
     "output_type": "display_data"
    },
    {
     "name": "stdout",
     "output_type": "stream",
     "text": [
      "epoch : 12/25    time : 476s/6192s\n",
      "Train Loss: 0.08810\n",
      "Valid Loss: 0.21823 best : 0.12336\n",
      "NRMSE Valid: {'width': 0.07100227, 'dynamics': 0.1316685, 'jitter': 0.084727876}\n",
      "R-Squared Valid: {'width': 0.9495867768595041, 'dynamics': 0.8266341108776623, 'jitter': 0.9282118727552603}\n"
     ]
    },
    {
     "data": {
      "application/vnd.jupyter.widget-view+json": {
       "model_id": "502c4c76e25a4d3b93d3b7744682bbb4",
       "version_major": 2,
       "version_minor": 0
      },
      "text/plain": [
       "  0%|          | 0/1331 [00:01<?, ?batch/s]"
      ]
     },
     "metadata": {},
     "output_type": "display_data"
    },
    {
     "data": {
      "application/vnd.jupyter.widget-view+json": {
       "model_id": "e7aa870eca714c1a9c3d8ca417a94800",
       "version_major": 2,
       "version_minor": 0
      },
      "text/plain": [
       "  0%|          | 0/167 [00:01<?, ?batch/s]"
      ]
     },
     "metadata": {},
     "output_type": "display_data"
    },
    {
     "name": "stdout",
     "output_type": "stream",
     "text": [
      "epoch : 13/25    time : 570s/6834s\n",
      "Train Loss: 0.08452\n",
      "Valid Loss: 0.25845 best : 0.12336\n",
      "NRMSE Valid: {'width': 0.08635276, 'dynamics': 0.1616965, 'jitter': 0.084905036}\n",
      "R-Squared Valid: {'width': 0.9254320060105184, 'dynamics': 0.7385424534409761, 'jitter': 0.9279113474574564}\n"
     ]
    },
    {
     "data": {
      "application/vnd.jupyter.widget-view+json": {
       "model_id": "d17beba862e14a7484b3e3b8f8637261",
       "version_major": 2,
       "version_minor": 0
      },
      "text/plain": [
       "  0%|          | 0/1331 [00:02<?, ?batch/s]"
      ]
     },
     "metadata": {},
     "output_type": "display_data"
    },
    {
     "data": {
      "application/vnd.jupyter.widget-view+json": {
       "model_id": "576232d9d52c4cddb49e9758261c88a6",
       "version_major": 2,
       "version_minor": 0
      },
      "text/plain": [
       "  0%|          | 0/167 [00:01<?, ?batch/s]"
      ]
     },
     "metadata": {},
     "output_type": "display_data"
    },
    {
     "name": "stdout",
     "output_type": "stream",
     "text": [
      "epoch : 14/25    time : 595s/6543s\n",
      "Train Loss: 0.08076\n",
      "Valid Loss: 0.22887 best : 0.12336\n",
      "NRMSE Valid: {'width': 0.0814731, 'dynamics': 0.124844, 'jitter': 0.09532656}\n",
      "R-Squared Valid: {'width': 0.9336213373403456, 'dynamics': 0.844139745759406, 'jitter': 0.9091284760008164}\n"
     ]
    },
    {
     "data": {
      "application/vnd.jupyter.widget-view+json": {
       "model_id": "0bb488a6a0d24f7980e87180444c45fe",
       "version_major": 2,
       "version_minor": 0
      },
      "text/plain": [
       "  0%|          | 0/1331 [00:01<?, ?batch/s]"
      ]
     },
     "metadata": {},
     "output_type": "display_data"
    },
    {
     "data": {
      "application/vnd.jupyter.widget-view+json": {
       "model_id": "f75f562270f34c31a52d6655d6b3fa27",
       "version_major": 2,
       "version_minor": 0
      },
      "text/plain": [
       "  0%|          | 0/167 [00:01<?, ?batch/s]"
      ]
     },
     "metadata": {},
     "output_type": "display_data"
    },
    {
     "name": "stdout",
     "output_type": "stream",
     "text": [
      "epoch : 15/25    time : 528s/5279s\n",
      "Train Loss: 0.08014\n",
      "Valid Loss: 0.29327 best : 0.12336\n",
      "NRMSE Valid: {'width': 0.116999805, 'dynamics': 0.16442646, 'jitter': 0.1127486}\n",
      "R-Squared Valid: {'width': 0.8631104432757325, 'dynamics': 0.72963937143223, 'jitter': 0.8728775404452702}\n"
     ]
    },
    {
     "data": {
      "application/vnd.jupyter.widget-view+json": {
       "model_id": "d6cb11af52974b28b9f12f048c39593e",
       "version_major": 2,
       "version_minor": 0
      },
      "text/plain": [
       "  0%|          | 0/1331 [00:01<?, ?batch/s]"
      ]
     },
     "metadata": {},
     "output_type": "display_data"
    },
    {
     "data": {
      "application/vnd.jupyter.widget-view+json": {
       "model_id": "70d5ac3f7cc0434eac844b0c8d512abb",
       "version_major": 2,
       "version_minor": 0
      },
      "text/plain": [
       "  0%|          | 0/167 [00:01<?, ?batch/s]"
      ]
     },
     "metadata": {},
     "output_type": "display_data"
    },
    {
     "name": "stdout",
     "output_type": "stream",
     "text": [
      "epoch : 16/25    time : 598s/5381s\n",
      "Train Loss: 0.07873\n",
      "Valid Loss: 0.25219 best : 0.12336\n",
      "NRMSE Valid: {'width': 0.08307122, 'dynamics': 0.1384686, 'jitter': 0.087733805}\n",
      "R-Squared Valid: {'width': 0.9309917355371901, 'dynamics': 0.8082644654520466, 'jitter': 0.9230278014208003}\n"
     ]
    },
    {
     "data": {
      "application/vnd.jupyter.widget-view+json": {
       "model_id": "567098663b1f45ed83abfa57a357300e",
       "version_major": 2,
       "version_minor": 0
      },
      "text/plain": [
       "  0%|          | 0/1331 [00:01<?, ?batch/s]"
      ]
     },
     "metadata": {},
     "output_type": "display_data"
    },
    {
     "ename": "KeyboardInterrupt",
     "evalue": "",
     "output_type": "error",
     "traceback": [
      "\u001b[0;31m---------------------------------------------------------------------------\u001b[0m",
      "\u001b[0;31mKeyboardInterrupt\u001b[0m                         Traceback (most recent call last)",
      "\u001b[0;32m<ipython-input-6-c744e999ccd5>\u001b[0m in \u001b[0;36m<module>\u001b[0;34m\u001b[0m\n\u001b[1;32m     45\u001b[0m           \u001b[0mx\u001b[0m \u001b[0;34m=\u001b[0m \u001b[0mtorch\u001b[0m\u001b[0;34m.\u001b[0m\u001b[0mtensor\u001b[0m\u001b[0;34m(\u001b[0m\u001b[0mbatch\u001b[0m\u001b[0;34m[\u001b[0m\u001b[0;36m0\u001b[0m\u001b[0;34m]\u001b[0m\u001b[0;34m,\u001b[0m \u001b[0mdtype\u001b[0m\u001b[0;34m=\u001b[0m\u001b[0mtorch\u001b[0m\u001b[0;34m.\u001b[0m\u001b[0mfloat32\u001b[0m\u001b[0;34m,\u001b[0m \u001b[0mdevice\u001b[0m\u001b[0;34m=\u001b[0m\u001b[0mdevice\u001b[0m\u001b[0;34m)\u001b[0m \u001b[0;31m# img\u001b[0m\u001b[0;34m\u001b[0m\u001b[0;34m\u001b[0m\u001b[0m\n\u001b[1;32m     46\u001b[0m           \u001b[0my\u001b[0m \u001b[0;34m=\u001b[0m \u001b[0mtorch\u001b[0m\u001b[0;34m.\u001b[0m\u001b[0mtensor\u001b[0m\u001b[0;34m(\u001b[0m\u001b[0mbatch\u001b[0m\u001b[0;34m[\u001b[0m\u001b[0;36m1\u001b[0m\u001b[0;34m]\u001b[0m\u001b[0;34m,\u001b[0m \u001b[0mdtype\u001b[0m\u001b[0;34m=\u001b[0m\u001b[0mtorch\u001b[0m\u001b[0;34m.\u001b[0m\u001b[0mfloat32\u001b[0m\u001b[0;34m,\u001b[0m \u001b[0mdevice\u001b[0m\u001b[0;34m=\u001b[0m\u001b[0mdevice\u001b[0m\u001b[0;34m)\u001b[0m \u001b[0;31m# label\u001b[0m\u001b[0;34m\u001b[0m\u001b[0;34m\u001b[0m\u001b[0m\n\u001b[0;32m---> 47\u001b[0;31m           \u001b[0mpred\u001b[0m \u001b[0;34m=\u001b[0m \u001b[0mmodel\u001b[0m\u001b[0;34m(\u001b[0m\u001b[0mx\u001b[0m\u001b[0;34m)\u001b[0m\u001b[0;34m\u001b[0m\u001b[0;34m\u001b[0m\u001b[0m\n\u001b[0m\u001b[1;32m     48\u001b[0m \u001b[0;34m\u001b[0m\u001b[0m\n\u001b[1;32m     49\u001b[0m           \u001b[0mloss\u001b[0m \u001b[0;34m=\u001b[0m \u001b[0mcriterion\u001b[0m\u001b[0;34m(\u001b[0m\u001b[0mpred\u001b[0m\u001b[0;34m.\u001b[0m\u001b[0msqueeze\u001b[0m\u001b[0;34m(\u001b[0m\u001b[0;36m1\u001b[0m\u001b[0;34m)\u001b[0m\u001b[0;34m,\u001b[0m \u001b[0my\u001b[0m\u001b[0;34m)\u001b[0m\u001b[0;34m\u001b[0m\u001b[0;34m\u001b[0m\u001b[0m\n",
      "\u001b[0;32m/opt/conda/lib/python3.8/site-packages/torch/nn/modules/module.py\u001b[0m in \u001b[0;36m_call_impl\u001b[0;34m(self, *input, **kwargs)\u001b[0m\n\u001b[1;32m   1049\u001b[0m         if not (self._backward_hooks or self._forward_hooks or self._forward_pre_hooks or _global_backward_hooks\n\u001b[1;32m   1050\u001b[0m                 or _global_forward_hooks or _global_forward_pre_hooks):\n\u001b[0;32m-> 1051\u001b[0;31m             \u001b[0;32mreturn\u001b[0m \u001b[0mforward_call\u001b[0m\u001b[0;34m(\u001b[0m\u001b[0;34m*\u001b[0m\u001b[0minput\u001b[0m\u001b[0;34m,\u001b[0m \u001b[0;34m**\u001b[0m\u001b[0mkwargs\u001b[0m\u001b[0;34m)\u001b[0m\u001b[0;34m\u001b[0m\u001b[0;34m\u001b[0m\u001b[0m\n\u001b[0m\u001b[1;32m   1052\u001b[0m         \u001b[0;31m# Do not call functions when jit is used\u001b[0m\u001b[0;34m\u001b[0m\u001b[0;34m\u001b[0m\u001b[0;34m\u001b[0m\u001b[0m\n\u001b[1;32m   1053\u001b[0m         \u001b[0mfull_backward_hooks\u001b[0m\u001b[0;34m,\u001b[0m \u001b[0mnon_full_backward_hooks\u001b[0m \u001b[0;34m=\u001b[0m \u001b[0;34m[\u001b[0m\u001b[0;34m]\u001b[0m\u001b[0;34m,\u001b[0m \u001b[0;34m[\u001b[0m\u001b[0;34m]\u001b[0m\u001b[0;34m\u001b[0m\u001b[0;34m\u001b[0m\u001b[0m\n",
      "\u001b[0;32m/opt/conda/lib/python3.8/site-packages/torch/nn/parallel/data_parallel.py\u001b[0m in \u001b[0;36mforward\u001b[0;34m(self, *inputs, **kwargs)\u001b[0m\n\u001b[1;32m    165\u001b[0m             \u001b[0;32mif\u001b[0m \u001b[0mlen\u001b[0m\u001b[0;34m(\u001b[0m\u001b[0mself\u001b[0m\u001b[0;34m.\u001b[0m\u001b[0mdevice_ids\u001b[0m\u001b[0;34m)\u001b[0m \u001b[0;34m==\u001b[0m \u001b[0;36m1\u001b[0m\u001b[0;34m:\u001b[0m\u001b[0;34m\u001b[0m\u001b[0;34m\u001b[0m\u001b[0m\n\u001b[1;32m    166\u001b[0m                 \u001b[0;32mreturn\u001b[0m \u001b[0mself\u001b[0m\u001b[0;34m.\u001b[0m\u001b[0mmodule\u001b[0m\u001b[0;34m(\u001b[0m\u001b[0;34m*\u001b[0m\u001b[0minputs\u001b[0m\u001b[0;34m[\u001b[0m\u001b[0;36m0\u001b[0m\u001b[0;34m]\u001b[0m\u001b[0;34m,\u001b[0m \u001b[0;34m**\u001b[0m\u001b[0mkwargs\u001b[0m\u001b[0;34m[\u001b[0m\u001b[0;36m0\u001b[0m\u001b[0;34m]\u001b[0m\u001b[0;34m)\u001b[0m\u001b[0;34m\u001b[0m\u001b[0;34m\u001b[0m\u001b[0m\n\u001b[0;32m--> 167\u001b[0;31m             \u001b[0mreplicas\u001b[0m \u001b[0;34m=\u001b[0m \u001b[0mself\u001b[0m\u001b[0;34m.\u001b[0m\u001b[0mreplicate\u001b[0m\u001b[0;34m(\u001b[0m\u001b[0mself\u001b[0m\u001b[0;34m.\u001b[0m\u001b[0mmodule\u001b[0m\u001b[0;34m,\u001b[0m \u001b[0mself\u001b[0m\u001b[0;34m.\u001b[0m\u001b[0mdevice_ids\u001b[0m\u001b[0;34m[\u001b[0m\u001b[0;34m:\u001b[0m\u001b[0mlen\u001b[0m\u001b[0;34m(\u001b[0m\u001b[0minputs\u001b[0m\u001b[0;34m)\u001b[0m\u001b[0;34m]\u001b[0m\u001b[0;34m)\u001b[0m\u001b[0;34m\u001b[0m\u001b[0;34m\u001b[0m\u001b[0m\n\u001b[0m\u001b[1;32m    168\u001b[0m             \u001b[0moutputs\u001b[0m \u001b[0;34m=\u001b[0m \u001b[0mself\u001b[0m\u001b[0;34m.\u001b[0m\u001b[0mparallel_apply\u001b[0m\u001b[0;34m(\u001b[0m\u001b[0mreplicas\u001b[0m\u001b[0;34m,\u001b[0m \u001b[0minputs\u001b[0m\u001b[0;34m,\u001b[0m \u001b[0mkwargs\u001b[0m\u001b[0;34m)\u001b[0m\u001b[0;34m\u001b[0m\u001b[0;34m\u001b[0m\u001b[0m\n\u001b[1;32m    169\u001b[0m             \u001b[0;32mreturn\u001b[0m \u001b[0mself\u001b[0m\u001b[0;34m.\u001b[0m\u001b[0mgather\u001b[0m\u001b[0;34m(\u001b[0m\u001b[0moutputs\u001b[0m\u001b[0;34m,\u001b[0m \u001b[0mself\u001b[0m\u001b[0;34m.\u001b[0m\u001b[0moutput_device\u001b[0m\u001b[0;34m)\u001b[0m\u001b[0;34m\u001b[0m\u001b[0;34m\u001b[0m\u001b[0m\n",
      "\u001b[0;32m/opt/conda/lib/python3.8/site-packages/torch/nn/parallel/data_parallel.py\u001b[0m in \u001b[0;36mreplicate\u001b[0;34m(self, module, device_ids)\u001b[0m\n\u001b[1;32m    170\u001b[0m \u001b[0;34m\u001b[0m\u001b[0m\n\u001b[1;32m    171\u001b[0m     \u001b[0;32mdef\u001b[0m \u001b[0mreplicate\u001b[0m\u001b[0;34m(\u001b[0m\u001b[0mself\u001b[0m\u001b[0;34m,\u001b[0m \u001b[0mmodule\u001b[0m\u001b[0;34m,\u001b[0m \u001b[0mdevice_ids\u001b[0m\u001b[0;34m)\u001b[0m\u001b[0;34m:\u001b[0m\u001b[0;34m\u001b[0m\u001b[0;34m\u001b[0m\u001b[0m\n\u001b[0;32m--> 172\u001b[0;31m         \u001b[0;32mreturn\u001b[0m \u001b[0mreplicate\u001b[0m\u001b[0;34m(\u001b[0m\u001b[0mmodule\u001b[0m\u001b[0;34m,\u001b[0m \u001b[0mdevice_ids\u001b[0m\u001b[0;34m,\u001b[0m \u001b[0;32mnot\u001b[0m \u001b[0mtorch\u001b[0m\u001b[0;34m.\u001b[0m\u001b[0mis_grad_enabled\u001b[0m\u001b[0;34m(\u001b[0m\u001b[0;34m)\u001b[0m\u001b[0;34m)\u001b[0m\u001b[0;34m\u001b[0m\u001b[0;34m\u001b[0m\u001b[0m\n\u001b[0m\u001b[1;32m    173\u001b[0m \u001b[0;34m\u001b[0m\u001b[0m\n\u001b[1;32m    174\u001b[0m     \u001b[0;32mdef\u001b[0m \u001b[0mscatter\u001b[0m\u001b[0;34m(\u001b[0m\u001b[0mself\u001b[0m\u001b[0;34m,\u001b[0m \u001b[0minputs\u001b[0m\u001b[0;34m,\u001b[0m \u001b[0mkwargs\u001b[0m\u001b[0;34m,\u001b[0m \u001b[0mdevice_ids\u001b[0m\u001b[0;34m)\u001b[0m\u001b[0;34m:\u001b[0m\u001b[0;34m\u001b[0m\u001b[0;34m\u001b[0m\u001b[0m\n",
      "\u001b[0;32m/opt/conda/lib/python3.8/site-packages/torch/nn/parallel/replicate.py\u001b[0m in \u001b[0;36mreplicate\u001b[0;34m(network, devices, detach)\u001b[0m\n\u001b[1;32m     89\u001b[0m     \u001b[0mparams\u001b[0m \u001b[0;34m=\u001b[0m \u001b[0mlist\u001b[0m\u001b[0;34m(\u001b[0m\u001b[0mnetwork\u001b[0m\u001b[0;34m.\u001b[0m\u001b[0mparameters\u001b[0m\u001b[0;34m(\u001b[0m\u001b[0;34m)\u001b[0m\u001b[0;34m)\u001b[0m\u001b[0;34m\u001b[0m\u001b[0;34m\u001b[0m\u001b[0m\n\u001b[1;32m     90\u001b[0m     \u001b[0mparam_indices\u001b[0m \u001b[0;34m=\u001b[0m \u001b[0;34m{\u001b[0m\u001b[0mparam\u001b[0m\u001b[0;34m:\u001b[0m \u001b[0midx\u001b[0m \u001b[0;32mfor\u001b[0m \u001b[0midx\u001b[0m\u001b[0;34m,\u001b[0m \u001b[0mparam\u001b[0m \u001b[0;32min\u001b[0m \u001b[0menumerate\u001b[0m\u001b[0;34m(\u001b[0m\u001b[0mparams\u001b[0m\u001b[0;34m)\u001b[0m\u001b[0;34m}\u001b[0m\u001b[0;34m\u001b[0m\u001b[0;34m\u001b[0m\u001b[0m\n\u001b[0;32m---> 91\u001b[0;31m     \u001b[0mparam_copies\u001b[0m \u001b[0;34m=\u001b[0m \u001b[0m_broadcast_coalesced_reshape\u001b[0m\u001b[0;34m(\u001b[0m\u001b[0mparams\u001b[0m\u001b[0;34m,\u001b[0m \u001b[0mdevices\u001b[0m\u001b[0;34m,\u001b[0m \u001b[0mdetach\u001b[0m\u001b[0;34m)\u001b[0m\u001b[0;34m\u001b[0m\u001b[0;34m\u001b[0m\u001b[0m\n\u001b[0m\u001b[1;32m     92\u001b[0m \u001b[0;34m\u001b[0m\u001b[0m\n\u001b[1;32m     93\u001b[0m     \u001b[0mbuffers\u001b[0m \u001b[0;34m=\u001b[0m \u001b[0mlist\u001b[0m\u001b[0;34m(\u001b[0m\u001b[0mnetwork\u001b[0m\u001b[0;34m.\u001b[0m\u001b[0mbuffers\u001b[0m\u001b[0;34m(\u001b[0m\u001b[0;34m)\u001b[0m\u001b[0;34m)\u001b[0m\u001b[0;34m\u001b[0m\u001b[0;34m\u001b[0m\u001b[0m\n",
      "\u001b[0;32m/opt/conda/lib/python3.8/site-packages/torch/nn/parallel/replicate.py\u001b[0m in \u001b[0;36m_broadcast_coalesced_reshape\u001b[0;34m(tensors, devices, detach)\u001b[0m\n\u001b[1;32m     69\u001b[0m         \u001b[0;31m# Use the autograd function to broadcast if not detach\u001b[0m\u001b[0;34m\u001b[0m\u001b[0;34m\u001b[0m\u001b[0;34m\u001b[0m\u001b[0m\n\u001b[1;32m     70\u001b[0m         \u001b[0;32mif\u001b[0m \u001b[0mlen\u001b[0m\u001b[0;34m(\u001b[0m\u001b[0mtensors\u001b[0m\u001b[0;34m)\u001b[0m \u001b[0;34m>\u001b[0m \u001b[0;36m0\u001b[0m\u001b[0;34m:\u001b[0m\u001b[0;34m\u001b[0m\u001b[0;34m\u001b[0m\u001b[0m\n\u001b[0;32m---> 71\u001b[0;31m             \u001b[0mtensor_copies\u001b[0m \u001b[0;34m=\u001b[0m \u001b[0mBroadcast\u001b[0m\u001b[0;34m.\u001b[0m\u001b[0mapply\u001b[0m\u001b[0;34m(\u001b[0m\u001b[0mdevices\u001b[0m\u001b[0;34m,\u001b[0m \u001b[0;34m*\u001b[0m\u001b[0mtensors\u001b[0m\u001b[0;34m)\u001b[0m\u001b[0;34m\u001b[0m\u001b[0;34m\u001b[0m\u001b[0m\n\u001b[0m\u001b[1;32m     72\u001b[0m             return [tensor_copies[i:i + len(tensors)]\n\u001b[1;32m     73\u001b[0m                     for i in range(0, len(tensor_copies), len(tensors))]\n",
      "\u001b[0;32m/opt/conda/lib/python3.8/site-packages/torch/nn/parallel/_functions.py\u001b[0m in \u001b[0;36mforward\u001b[0;34m(ctx, target_gpus, *inputs)\u001b[0m\n\u001b[1;32m     21\u001b[0m         \u001b[0mctx\u001b[0m\u001b[0;34m.\u001b[0m\u001b[0mnum_inputs\u001b[0m \u001b[0;34m=\u001b[0m \u001b[0mlen\u001b[0m\u001b[0;34m(\u001b[0m\u001b[0minputs\u001b[0m\u001b[0;34m)\u001b[0m\u001b[0;34m\u001b[0m\u001b[0;34m\u001b[0m\u001b[0m\n\u001b[1;32m     22\u001b[0m         \u001b[0mctx\u001b[0m\u001b[0;34m.\u001b[0m\u001b[0minput_device\u001b[0m \u001b[0;34m=\u001b[0m \u001b[0minputs\u001b[0m\u001b[0;34m[\u001b[0m\u001b[0;36m0\u001b[0m\u001b[0;34m]\u001b[0m\u001b[0;34m.\u001b[0m\u001b[0mget_device\u001b[0m\u001b[0;34m(\u001b[0m\u001b[0;34m)\u001b[0m\u001b[0;34m\u001b[0m\u001b[0;34m\u001b[0m\u001b[0m\n\u001b[0;32m---> 23\u001b[0;31m         \u001b[0moutputs\u001b[0m \u001b[0;34m=\u001b[0m \u001b[0mcomm\u001b[0m\u001b[0;34m.\u001b[0m\u001b[0mbroadcast_coalesced\u001b[0m\u001b[0;34m(\u001b[0m\u001b[0minputs\u001b[0m\u001b[0;34m,\u001b[0m \u001b[0mctx\u001b[0m\u001b[0;34m.\u001b[0m\u001b[0mtarget_gpus\u001b[0m\u001b[0;34m)\u001b[0m\u001b[0;34m\u001b[0m\u001b[0;34m\u001b[0m\u001b[0m\n\u001b[0m\u001b[1;32m     24\u001b[0m         \u001b[0mnon_differentiables\u001b[0m \u001b[0;34m=\u001b[0m \u001b[0;34m[\u001b[0m\u001b[0;34m]\u001b[0m\u001b[0;34m\u001b[0m\u001b[0;34m\u001b[0m\u001b[0m\n\u001b[1;32m     25\u001b[0m         \u001b[0;32mfor\u001b[0m \u001b[0midx\u001b[0m\u001b[0;34m,\u001b[0m \u001b[0minput_requires_grad\u001b[0m \u001b[0;32min\u001b[0m \u001b[0menumerate\u001b[0m\u001b[0;34m(\u001b[0m\u001b[0mctx\u001b[0m\u001b[0;34m.\u001b[0m\u001b[0mneeds_input_grad\u001b[0m\u001b[0;34m[\u001b[0m\u001b[0;36m1\u001b[0m\u001b[0;34m:\u001b[0m\u001b[0;34m]\u001b[0m\u001b[0;34m)\u001b[0m\u001b[0;34m:\u001b[0m\u001b[0;34m\u001b[0m\u001b[0;34m\u001b[0m\u001b[0m\n",
      "\u001b[0;32m/opt/conda/lib/python3.8/site-packages/torch/nn/parallel/comm.py\u001b[0m in \u001b[0;36mbroadcast_coalesced\u001b[0;34m(tensors, devices, buffer_size)\u001b[0m\n\u001b[1;32m     56\u001b[0m     \u001b[0mdevices\u001b[0m \u001b[0;34m=\u001b[0m \u001b[0;34m[\u001b[0m\u001b[0m_get_device_index\u001b[0m\u001b[0;34m(\u001b[0m\u001b[0md\u001b[0m\u001b[0;34m)\u001b[0m \u001b[0;32mfor\u001b[0m \u001b[0md\u001b[0m \u001b[0;32min\u001b[0m \u001b[0mdevices\u001b[0m\u001b[0;34m]\u001b[0m\u001b[0;34m\u001b[0m\u001b[0;34m\u001b[0m\u001b[0m\n\u001b[1;32m     57\u001b[0m     \u001b[0mtensors\u001b[0m \u001b[0;34m=\u001b[0m \u001b[0;34m[\u001b[0m\u001b[0m_handle_complex\u001b[0m\u001b[0;34m(\u001b[0m\u001b[0mt\u001b[0m\u001b[0;34m)\u001b[0m \u001b[0;32mfor\u001b[0m \u001b[0mt\u001b[0m \u001b[0;32min\u001b[0m \u001b[0mtensors\u001b[0m\u001b[0;34m]\u001b[0m\u001b[0;34m\u001b[0m\u001b[0;34m\u001b[0m\u001b[0m\n\u001b[0;32m---> 58\u001b[0;31m     \u001b[0;32mreturn\u001b[0m \u001b[0mtorch\u001b[0m\u001b[0;34m.\u001b[0m\u001b[0m_C\u001b[0m\u001b[0;34m.\u001b[0m\u001b[0m_broadcast_coalesced\u001b[0m\u001b[0;34m(\u001b[0m\u001b[0mtensors\u001b[0m\u001b[0;34m,\u001b[0m \u001b[0mdevices\u001b[0m\u001b[0;34m,\u001b[0m \u001b[0mbuffer_size\u001b[0m\u001b[0;34m)\u001b[0m\u001b[0;34m\u001b[0m\u001b[0;34m\u001b[0m\u001b[0m\n\u001b[0m\u001b[1;32m     59\u001b[0m \u001b[0;34m\u001b[0m\u001b[0m\n\u001b[1;32m     60\u001b[0m \u001b[0;34m\u001b[0m\u001b[0m\n",
      "\u001b[0;31mKeyboardInterrupt\u001b[0m: "
     ]
    }
   ],
   "source": [
    "### TRAINING\n",
    "from tqdm.auto import tqdm\n",
    "import pdb\n",
    "\n",
    "for fold, idxs in enumerate(range(1)):\n",
    "  \n",
    "  model = nn.DataParallel(Network(model_name), device_ids=[0,1]) # If multi-gpu\n",
    "  # model = Network(model_name) # else use this.\n",
    "  \n",
    "  model = model.to(device)\n",
    "  scaler = torch.cuda.amp.GradScaler() \n",
    "  optimizer = torch.optim.Adam(model.parameters(), lr=3e-4)\n",
    "  criterion = weighted_mse_loss\n",
    "\n",
    "  best= 1e5\n",
    "\n",
    "  print(f\"Running fold No.{fold+1}\")\n",
    "  \n",
    "  # train_idx, valid_idx = idxs\n",
    "  # train_dataset = LsdDataset(np.array(imgs)[train_idx], mode='train')\n",
    "  train_dataset = LsdDataset(np.array(imgs), mode='train')\n",
    "\n",
    "  train_loader = DataLoader(train_dataset,\n",
    "                    batch_size=batch_size, pin_memory=True, num_workers=4, shuffle=True)\n",
    "\n",
    "  # valid_dataset = LsdDataset(np.array(imgs)[valid_idx], mode='valid')\n",
    "  valid_dataset = LsdDataset(np.array(val_imgs), mode='valid')\n",
    "  valid_loader = DataLoader(valid_dataset, batch_size=batch_size, pin_memory=True, num_workers=4, shuffle=True)\n",
    "  \n",
    "  for epoch in range(training_epochs):\n",
    "      \n",
    "      start=time.time()\n",
    "      train_loss = 0\n",
    "      \n",
    "      model.train()\n",
    "      optimizer.zero_grad()\n",
    "\n",
    "      train_errors = []\n",
    "      eval_errors = []\n",
    "\n",
    "      train_vals = []\n",
    "      eval_vals = []\n",
    "\n",
    "      with tqdm(train_loader, unit=\"batch\") as t_epoch:\n",
    "        for idx, batch in enumerate(t_epoch):\n",
    "\n",
    "          x = torch.tensor(batch[0], dtype=torch.float32, device=device) # img\n",
    "          y = torch.tensor(batch[1], dtype=torch.float32, device=device) # label\n",
    "          pred = model(x)\n",
    "          \n",
    "          loss = criterion(pred.squeeze(1), y)\n",
    "          loss.backward()\n",
    "\n",
    "          optimizer.step()\n",
    "          optimizer.zero_grad()\n",
    "          \n",
    "          train_loss += loss.item()/len(train_loader)\n",
    "          t_epoch.set_postfix(loss=loss.item())\n",
    "\n",
    "          train_errors.append(abs(pred - y).detach().cpu())\n",
    "          train_vals.append((pred.detach().cpu(), y.detach().cpu()))\n",
    "\n",
    "      model.eval()\n",
    "      valid_loss = 0\n",
    "      \n",
    "      with torch.no_grad():\n",
    "           with tqdm(valid_loader, unit=\"batch\") as v_epoch:\n",
    "             for batch in v_epoch:\n",
    "              x = torch.tensor(batch[0], dtype=torch.float32, device=device)\n",
    "              y = torch.tensor(batch[1], dtype=torch.float32, device=device)\n",
    "              \n",
    "              pred = model(x)\n",
    "              loss = criterion(pred.squeeze(1), y)\n",
    "              valid_loss += loss.item()/len(valid_loader)\n",
    "              v_epoch.set_postfix(loss=loss.item())\n",
    "              eval_errors.append(abs(pred - y).detach().cpu())\n",
    "              eval_vals.append((pred.detach().cpu(), y.detach().cpu()))\n",
    "            \n",
    "      TIME = time.time() - start\n",
    "      train_score = abs(torch.cat(train_errors, dim=0)).mean(axis=0)\n",
    "      valid_score = abs(torch.cat(eval_errors, dim=0)).mean(axis=0)\n",
    "\n",
    "      if  sum(valid_score) <= best:\n",
    "          best = sum(valid_score)\n",
    "          # But it's convsmall, in reality.x``\n",
    "          torch.save(model.state_dict(), f'/workspace/LSD/result/regnet0207.pth')\n",
    "\n",
    "      print(f'epoch : {epoch+1}/{training_epochs}    time : {TIME:.0f}s/{TIME*(training_epochs-epoch-1):.0f}s')\n",
    "      print(f'Train Loss: {sum(train_score):.5f}')\n",
    "      print(f'Valid Loss: {sum(valid_score):.5f} best : {best:.5f}')\n",
    "      print(f\"NRMSE Valid: {nrmse(torch.cat([x[0] for x in eval_vals]).numpy(), torch.cat([x[1] for x in eval_vals]).numpy())}\")\n",
    "      print(f\"R-Squared Valid: {get_rsquared_total(torch.cat([x[0] for x in eval_vals]).numpy(), torch.cat([x[1] for x in eval_vals]).numpy())}\")"
   ]
  }
 ],
 "metadata": {
  "kernelspec": {
   "display_name": "Python 3.8.10 ('base')",
   "language": "python",
   "name": "python3"
  },
  "language_info": {
   "codemirror_mode": {
    "name": "ipython",
    "version": 3
   },
   "file_extension": ".py",
   "mimetype": "text/x-python",
   "name": "python",
   "nbconvert_exporter": "python",
   "pygments_lexer": "ipython3",
   "version": "3.8.10"
  },
  "orig_nbformat": 4,
  "vscode": {
   "interpreter": {
    "hash": "d4d1e4263499bec80672ea0156c357c1ee493ec2b1c70f0acce89fc37c4a6abe"
   }
  }
 },
 "nbformat": 4,
 "nbformat_minor": 2
}
